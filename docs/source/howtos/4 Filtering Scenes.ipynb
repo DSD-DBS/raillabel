{
 "cells": [
  {
   "attachments": {},
   "cell_type": "markdown",
   "metadata": {},
   "source": [
    "# 4 Filtering Scenes"
   ]
  },
  {
   "attachments": {},
   "cell_type": "markdown",
   "metadata": {},
   "source": [
    "The annotations of a scene can be filtered by many criteria. This functionality is provided by ```raillabel.filter()```. This method takes a scene and filter arguments and returns a copy of the scene with filters applied."
   ]
  },
  {
   "cell_type": "code",
   "execution_count": 5,
   "metadata": {},
   "outputs": [
    {
     "ename": "KeyboardInterrupt",
     "evalue": "",
     "output_type": "error",
     "traceback": [
      "\u001b[0;31m---------------------------------------------------------------------------\u001b[0m",
      "\u001b[0;31mKeyboardInterrupt\u001b[0m                         Traceback (most recent call last)",
      "Cell \u001b[0;32mIn[5], line 4\u001b[0m\n\u001b[1;32m      1\u001b[0m \u001b[39mimport\u001b[39;00m \u001b[39mraillabel\u001b[39;00m\n\u001b[1;32m      2\u001b[0m \u001b[39mimport\u001b[39;00m \u001b[39mdecimal\u001b[39;00m\n\u001b[0;32m----> 4\u001b[0m scene \u001b[39m=\u001b[39m raillabel\u001b[39m.\u001b[39mload(\u001b[39m'\u001b[39m\u001b[39mpath/to/file.json\u001b[39m\u001b[39m'\u001b[39m)\n\u001b[1;32m      6\u001b[0m scene_with_only_trains \u001b[39m=\u001b[39m raillabel\u001b[39m.\u001b[39mfilter(\n\u001b[1;32m      7\u001b[0m     scene,\n\u001b[1;32m      8\u001b[0m     include_classes\u001b[39m=\u001b[39m\u001b[39m'\u001b[39m\u001b[39mtrain\u001b[39m\u001b[39m'\u001b[39m\n\u001b[1;32m      9\u001b[0m )\n\u001b[1;32m     10\u001b[0m scene_without_bboxs \u001b[39m=\u001b[39m raillabel\u001b[39m.\u001b[39mfilter(\n\u001b[1;32m     11\u001b[0m     scene,\n\u001b[1;32m     12\u001b[0m     exclude_annotation_types\u001b[39m=\u001b[39m[\u001b[39m'\u001b[39m\u001b[39mbbox\u001b[39m\u001b[39m'\u001b[39m]\n\u001b[1;32m     13\u001b[0m )\n",
      "Cell \u001b[0;32mIn[5], line 4\u001b[0m\n\u001b[1;32m      1\u001b[0m \u001b[39mimport\u001b[39;00m \u001b[39mraillabel\u001b[39;00m\n\u001b[1;32m      2\u001b[0m \u001b[39mimport\u001b[39;00m \u001b[39mdecimal\u001b[39;00m\n\u001b[0;32m----> 4\u001b[0m scene \u001b[39m=\u001b[39m raillabel\u001b[39m.\u001b[39mload(\u001b[39m'\u001b[39m\u001b[39mpath/to/file.json\u001b[39m\u001b[39m'\u001b[39m)\n\u001b[1;32m      6\u001b[0m scene_with_only_trains \u001b[39m=\u001b[39m raillabel\u001b[39m.\u001b[39mfilter(\n\u001b[1;32m      7\u001b[0m     scene,\n\u001b[1;32m      8\u001b[0m     include_classes\u001b[39m=\u001b[39m\u001b[39m'\u001b[39m\u001b[39mtrain\u001b[39m\u001b[39m'\u001b[39m\n\u001b[1;32m      9\u001b[0m )\n\u001b[1;32m     10\u001b[0m scene_without_bboxs \u001b[39m=\u001b[39m raillabel\u001b[39m.\u001b[39mfilter(\n\u001b[1;32m     11\u001b[0m     scene,\n\u001b[1;32m     12\u001b[0m     exclude_annotation_types\u001b[39m=\u001b[39m[\u001b[39m'\u001b[39m\u001b[39mbbox\u001b[39m\u001b[39m'\u001b[39m]\n\u001b[1;32m     13\u001b[0m )\n",
      "File \u001b[0;32m_pydevd_bundle/pydevd_cython.pyx:1457\u001b[0m, in \u001b[0;36m_pydevd_bundle.pydevd_cython.SafeCallWrapper.__call__\u001b[0;34m()\u001b[0m\n",
      "File \u001b[0;32m_pydevd_bundle/pydevd_cython.pyx:701\u001b[0m, in \u001b[0;36m_pydevd_bundle.pydevd_cython.PyDBFrame.trace_dispatch\u001b[0;34m()\u001b[0m\n",
      "File \u001b[0;32m_pydevd_bundle/pydevd_cython.pyx:1152\u001b[0m, in \u001b[0;36m_pydevd_bundle.pydevd_cython.PyDBFrame.trace_dispatch\u001b[0;34m()\u001b[0m\n",
      "File \u001b[0;32m_pydevd_bundle/pydevd_cython.pyx:1135\u001b[0m, in \u001b[0;36m_pydevd_bundle.pydevd_cython.PyDBFrame.trace_dispatch\u001b[0;34m()\u001b[0m\n",
      "File \u001b[0;32m_pydevd_bundle/pydevd_cython.pyx:312\u001b[0m, in \u001b[0;36m_pydevd_bundle.pydevd_cython.PyDBFrame.do_wait_suspend\u001b[0;34m()\u001b[0m\n",
      "File \u001b[0;32m~/opt/miniconda3/envs/py310/lib/python3.10/site-packages/debugpy/_vendored/pydevd/pydevd.py:2070\u001b[0m, in \u001b[0;36mPyDB.do_wait_suspend\u001b[0;34m(self, thread, frame, event, arg, exception_type)\u001b[0m\n\u001b[1;32m   2067\u001b[0m             from_this_thread\u001b[39m.\u001b[39mappend(frame_custom_thread_id)\n\u001b[1;32m   2069\u001b[0m     \u001b[39mwith\u001b[39;00m \u001b[39mself\u001b[39m\u001b[39m.\u001b[39m_threads_suspended_single_notification\u001b[39m.\u001b[39mnotify_thread_suspended(thread_id, thread, stop_reason):\n\u001b[0;32m-> 2070\u001b[0m         keep_suspended \u001b[39m=\u001b[39m \u001b[39mself\u001b[39;49m\u001b[39m.\u001b[39;49m_do_wait_suspend(thread, frame, event, arg, suspend_type, from_this_thread, frames_tracker)\n\u001b[1;32m   2072\u001b[0m frames_list \u001b[39m=\u001b[39m \u001b[39mNone\u001b[39;00m\n\u001b[1;32m   2074\u001b[0m \u001b[39mif\u001b[39;00m keep_suspended:\n\u001b[1;32m   2075\u001b[0m     \u001b[39m# This means that we should pause again after a set next statement.\u001b[39;00m\n",
      "File \u001b[0;32m~/opt/miniconda3/envs/py310/lib/python3.10/site-packages/debugpy/_vendored/pydevd/pydevd.py:2106\u001b[0m, in \u001b[0;36mPyDB._do_wait_suspend\u001b[0;34m(self, thread, frame, event, arg, suspend_type, from_this_thread, frames_tracker)\u001b[0m\n\u001b[1;32m   2103\u001b[0m         \u001b[39mself\u001b[39m\u001b[39m.\u001b[39m_call_input_hook()\n\u001b[1;32m   2105\u001b[0m     \u001b[39mself\u001b[39m\u001b[39m.\u001b[39mprocess_internal_commands()\n\u001b[0;32m-> 2106\u001b[0m     time\u001b[39m.\u001b[39;49msleep(\u001b[39m0.01\u001b[39;49m)\n\u001b[1;32m   2108\u001b[0m \u001b[39mself\u001b[39m\u001b[39m.\u001b[39mcancel_async_evaluation(get_current_thread_id(thread), \u001b[39mstr\u001b[39m(\u001b[39mid\u001b[39m(frame)))\n\u001b[1;32m   2110\u001b[0m \u001b[39m# process any stepping instructions\u001b[39;00m\n",
      "\u001b[0;31mKeyboardInterrupt\u001b[0m: "
     ]
    }
   ],
   "source": [
    "import raillabel\n",
    "import decimal\n",
    "\n",
    "scene = raillabel.load('path/to/file.json')\n",
    "\n",
    "scene_with_only_trains = raillabel.filter(\n",
    "    scene,\n",
    "    include_classes='train'\n",
    ")\n",
    "scene_without_bboxs = raillabel.filter(\n",
    "    scene,\n",
    "    exclude_annotation_types=['bbox']\n",
    ")\n",
    "cut_scene_with_only_red_trains = raillabel.filter(\n",
    "    scene,\n",
    "    start_timestamp=decimal.Decimal('1587349200.004200000'),\n",
    "    exclude_frames=[4, 2],\n",
    "    include_classes='train',\n",
    "    include_attributes={\n",
    "        'color': 'red'\n",
    "    }\n",
    ")\n",
    "scene_with_annotations_with_an_attribute = raillabel.filter(\n",
    "    scene,\n",
    "    include_attributes={ # All annotations with the color \n",
    "        'color': None    # attribute will be included, \n",
    "    }                    # regardless of color value.\n",
    ")                        "
   ]
  },
  {
   "attachments": {},
   "cell_type": "markdown",
   "metadata": {},
   "source": [
    "Most filter categories have an include and exclude parameter (i.e ```include_classes``` and ```exclude_classes```). When include is set, all annotations, that meet the criterium are *included* into the filtered scene. Excluded parameters are *excluded* from the scene. These two parameters are mutually exclusive and can not both be set."
   ]
  },
  {
   "cell_type": "code",
   "execution_count": null,
   "metadata": {},
   "outputs": [],
   "source": [
    "invalid_scene = raillabel.filter(\n",
    "    scene,\n",
    "    include_classes='person',  # Will raise a ValueError due \n",
    "    exclude_classes='train'    # to mutual exclusivity.\n",
    ")"
   ]
  }
 ],
 "metadata": {
  "kernelspec": {
   "display_name": "py310",
   "language": "python",
   "name": "python3"
  },
  "language_info": {
   "codemirror_mode": {
    "name": "ipython",
    "version": 3
   },
   "file_extension": ".py",
   "mimetype": "text/x-python",
   "name": "python",
   "nbconvert_exporter": "python",
   "pygments_lexer": "ipython3",
   "version": "3.10.8"
  },
  "orig_nbformat": 4,
  "vscode": {
   "interpreter": {
    "hash": "879327282fd87dd434cde877bef90a7426aeb392fe95da29880b8f8c5b059dd1"
   }
  }
 },
 "nbformat": 4,
 "nbformat_minor": 2
}
