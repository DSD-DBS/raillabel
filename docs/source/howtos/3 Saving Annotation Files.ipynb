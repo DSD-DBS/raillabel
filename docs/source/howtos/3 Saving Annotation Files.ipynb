{
 "cells": [
  {
   "attachments": {},
   "cell_type": "markdown",
   "metadata": {},
   "source": [
    "# 3 Saving Annotation Files"
   ]
  },
  {
   "attachments": {},
   "cell_type": "markdown",
   "metadata": {},
   "source": [
    "If changes have been made to an annotation file or a file should be copied, it can be saved via the ```raillabel.save()``` method. "
   ]
  },
  {
   "cell_type": "code",
   "execution_count": null,
   "metadata": {},
   "outputs": [],
   "source": [
    "import raillabel\n",
    "\n",
    "scene = raillabel.load('path/to/file.json')\n",
    "scene.frames['0'].stream_stamps['lidar'].timestamp += 37\n",
    "raillabel.save(scene, 'path/to/file.json')"
   ]
  },
  {
   "attachments": {},
   "cell_type": "markdown",
   "metadata": {},
   "source": [
    "By default, the JSON file is saved as compact as possible with no linebreaks or indents. This can be changed by setting ```prettify_json=True``` as an argument. The indent size used is 4 spaces."
   ]
  },
  {
   "attachments": {},
   "cell_type": "markdown",
   "metadata": {},
   "source": [
    "## Validation"
   ]
  },
  {
   "attachments": {},
   "cell_type": "markdown",
   "metadata": {},
   "source": [
    "If the data should be validated after beeing saved, the ```validate``` parameter can be set to True. If the data is not valid, a ```raillabel.SchemaError``` is raised with all errors included and the data is not saved."
   ]
  },
  {
   "cell_type": "code",
   "execution_count": null,
   "metadata": {},
   "outputs": [],
   "source": [
    "import raillabel\n",
    "\n",
    "scene = raillabel.load('path/to/file.json')\n",
    "scene.frames['0'].stream_stamps['lidar'].timestamp += 37\n",
    "raillabel.save(scene, 'path/to/file.json', validate=True)"
   ]
  }
 ],
 "metadata": {
  "kernelspec": {
   "display_name": "py310",
   "language": "python",
   "name": "python3"
  },
  "language_info": {
   "name": "python",
   "version": "3.10.8 | packaged by conda-forge | (main, Nov 22 2022, 08:27:35) [Clang 14.0.6 ]"
  },
  "orig_nbformat": 4,
  "vscode": {
   "interpreter": {
    "hash": "879327282fd87dd434cde877bef90a7426aeb392fe95da29880b8f8c5b059dd1"
   }
  }
 },
 "nbformat": 4,
 "nbformat_minor": 2
}
