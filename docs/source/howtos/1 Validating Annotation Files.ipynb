{
 "cells": [
  {
   "attachments": {},
   "cell_type": "markdown",
   "metadata": {},
   "source": [
    "# 1 Validating Annotation Files"
   ]
  },
  {
   "attachments": {},
   "cell_type": "markdown",
   "metadata": {},
   "source": [
    "Some annotation files might not fit the valid schema, depending on their source and editing history. To check whether a JSON file is a valid RailLabel annotation file, the raillabel.validate() method can be used. This checks the JSON file against a given schema and returns whether the data is valid and any potential incompatibilities with the schema."
   ]
  },
  {
   "cell_type": "code",
   "execution_count": 5,
   "metadata": {
    "tags": []
   },
   "outputs": [
    {
     "ename": "AttributeError",
     "evalue": "module 'raillabel' has no attribute 'validate'",
     "output_type": "error",
     "traceback": [
      "\u001b[0;31m---------------------------------------------------------------------------\u001b[0m",
      "\u001b[0;31mAttributeError\u001b[0m                            Traceback (most recent call last)",
      "Cell \u001b[0;32mIn[5], line 11\u001b[0m\n\u001b[1;32m      1\u001b[0m \u001b[39mimport\u001b[39;00m \u001b[39mraillabel\u001b[39;00m\n\u001b[1;32m      3\u001b[0m valid_data \u001b[39m=\u001b[39m {\n\u001b[1;32m      4\u001b[0m     \u001b[39m\"\u001b[39m\u001b[39mopenlabel\u001b[39m\u001b[39m\"\u001b[39m: {\n\u001b[1;32m      5\u001b[0m         \u001b[39m\"\u001b[39m\u001b[39mmetadata\u001b[39m\u001b[39m\"\u001b[39m: {\n\u001b[0;32m   (...)\u001b[0m\n\u001b[1;32m      8\u001b[0m     }\n\u001b[1;32m      9\u001b[0m }\n\u001b[0;32m---> 11\u001b[0m raillabel\u001b[39m.\u001b[39;49mvalidate(valid_data)\n",
      "\u001b[0;31mAttributeError\u001b[0m: module 'raillabel' has no attribute 'validate'"
     ]
    }
   ],
   "source": [
    "import raillabel\n",
    "\n",
    "valid_data = {\n",
    "    \"openlabel\": {\n",
    "        \"metadata\": {\n",
    "            \"schema_version\": \"1.0.0\"\n",
    "        }\n",
    "    }\n",
    "}\n",
    "\n",
    "raillabel.validate(valid_data)"
   ]
  },
  {
   "cell_type": "code",
   "execution_count": 15,
   "metadata": {},
   "outputs": [
    {
     "data": {
      "text/plain": [
       "(False,\n",
       " [\"$.openlabel: Additional properties are not allowed ('invalid_field' was unexpected)\"])"
      ]
     },
     "execution_count": 15,
     "metadata": {},
     "output_type": "execute_result"
    }
   ],
   "source": [
    "import raillabel\n",
    "\n",
    "invalid_data = {\n",
    "    \"openlabel\": {\n",
    "        \"metadata\": {\n",
    "            \"schema_version\": \"1.0.0\"\n",
    "        },\n",
    "        \"invalid_field\": \"foo\"\n",
    "    }\n",
    "}\n",
    "\n",
    "raillabel.validate(invalid_data)"
   ]
  },
  {
   "attachments": {},
   "cell_type": "markdown",
   "metadata": {},
   "source": [
    "By default, the OpenLABEL JSON schema is used for validation. However, the method can validate data with any schema."
   ]
  },
  {
   "cell_type": "code",
   "execution_count": null,
   "metadata": {},
   "outputs": [],
   "source": [
    "import raillabel\n",
    "\n",
    "data = {\n",
    "    \"openlabel\": {\n",
    "        \"metadata\": {\n",
    "            \"schema_version\": \"2.0.0\"\n",
    "        }\n",
    "    }\n",
    "}\n",
    "\n",
    "raillabel.validate(data, \"path/to/schema.json\")"
   ]
  },
  {
   "attachments": {},
   "cell_type": "markdown",
   "metadata": {},
   "source": [
    "The method returns a tuple of two elements. The first element is a boolean marking if the data validates against the schema. The second is a list of strings with each string being an error in the data. This example shows how to present the results of the method to a user."
   ]
  },
  {
   "cell_type": "code",
   "execution_count": null,
   "metadata": {},
   "outputs": [],
   "source": [
    "is_data_valid, warnings = raillabel.validate(data)\n",
    "\n",
    "if is_data_valid:\n",
    "    do_something()\n",
    "\n",
    "else:\n",
    "    for w in warnings:\n",
    "        print(w)"
   ]
  }
 ],
 "metadata": {
  "kernelspec": {
   "display_name": "py310",
   "language": "python",
   "name": "python3"
  },
  "language_info": {
   "codemirror_mode": {
    "name": "ipython",
    "version": 3
   },
   "file_extension": ".py",
   "mimetype": "text/x-python",
   "name": "python",
   "nbconvert_exporter": "python",
   "pygments_lexer": "ipython3",
   "version": "3.10.8"
  },
  "orig_nbformat": 4,
  "vscode": {
   "interpreter": {
    "hash": "879327282fd87dd434cde877bef90a7426aeb392fe95da29880b8f8c5b059dd1"
   }
  }
 },
 "nbformat": 4,
 "nbformat_minor": 2
}
